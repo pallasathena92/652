{
 "cells": [
  {
   "cell_type": "code",
   "execution_count": 1,
   "metadata": {
    "scrolled": true
   },
   "outputs": [
    {
     "data": {
      "text/html": [
       "<div>\n",
       "<style>\n",
       "    .dataframe thead tr:only-child th {\n",
       "        text-align: right;\n",
       "    }\n",
       "\n",
       "    .dataframe thead th {\n",
       "        text-align: left;\n",
       "    }\n",
       "\n",
       "    .dataframe tbody tr th {\n",
       "        vertical-align: top;\n",
       "    }\n",
       "</style>\n",
       "<table border=\"1\" class=\"dataframe\">\n",
       "  <thead>\n",
       "    <tr style=\"text-align: right;\">\n",
       "      <th></th>\n",
       "      <th>YEAR</th>\n",
       "      <th>DJIA</th>\n",
       "    </tr>\n",
       "  </thead>\n",
       "  <tbody>\n",
       "    <tr>\n",
       "      <th>0</th>\n",
       "      <td>1886</td>\n",
       "      <td>39.4859</td>\n",
       "    </tr>\n",
       "    <tr>\n",
       "      <th>1</th>\n",
       "      <td>1887</td>\n",
       "      <td>41.1292</td>\n",
       "    </tr>\n",
       "    <tr>\n",
       "      <th>2</th>\n",
       "      <td>1888</td>\n",
       "      <td>37.925</td>\n",
       "    </tr>\n",
       "    <tr>\n",
       "      <th>3</th>\n",
       "      <td>1889</td>\n",
       "      <td>39.3806</td>\n",
       "    </tr>\n",
       "    <tr>\n",
       "      <th>4</th>\n",
       "      <td>1890</td>\n",
       "      <td>41.9753</td>\n",
       "    </tr>\n",
       "  </tbody>\n",
       "</table>\n",
       "</div>"
      ],
      "text/plain": [
       "   YEAR     DJIA\n",
       "0  1886  39.4859\n",
       "1  1887  41.1292\n",
       "2  1888   37.925\n",
       "3  1889  39.3806\n",
       "4  1890  41.9753"
      ]
     },
     "execution_count": 1,
     "metadata": {},
     "output_type": "execute_result"
    }
   ],
   "source": [
    "import numpy as np\n",
    "import matplotlib.pyplot as plt\n",
    "import scipy.stats\n",
    "import pandas as pd\n",
    "data = pd.read_csv('/Users/40515/Desktop/data1.csv', sep=',')\n",
    "data.head()"
   ]
  },
  {
   "cell_type": "code",
   "execution_count": 2,
   "metadata": {
    "scrolled": true
   },
   "outputs": [
    {
     "name": "stdout",
     "output_type": "stream",
     "text": [
      "1.06929371758\n",
      "0.206786582889\n"
     ]
    }
   ],
   "source": [
    "rates = []\n",
    "for x in range(129):\n",
    "    rate = float(data.loc[x+1,'DJIA'])/float(data.loc[x,'DJIA'])\n",
    "    rates.append(rate)\n",
    "rate_array = np.array(rates)\n",
    "mu = np.mean(rate_array)\n",
    "sigma = np.std(rate_array)\n",
    "print(mu)\n",
    "print(sigma)"
   ]
  },
  {
   "cell_type": "code",
   "execution_count": 3,
   "metadata": {
    "scrolled": true
   },
   "outputs": [
    {
     "data": {
      "text/html": [
       "<div>\n",
       "<style>\n",
       "    .dataframe thead tr:only-child th {\n",
       "        text-align: right;\n",
       "    }\n",
       "\n",
       "    .dataframe thead th {\n",
       "        text-align: left;\n",
       "    }\n",
       "\n",
       "    .dataframe tbody tr th {\n",
       "        vertical-align: top;\n",
       "    }\n",
       "</style>\n",
       "<table border=\"1\" class=\"dataframe\">\n",
       "  <thead>\n",
       "    <tr style=\"text-align: right;\">\n",
       "      <th></th>\n",
       "      <th>rate</th>\n",
       "      <th>year</th>\n",
       "    </tr>\n",
       "  </thead>\n",
       "  <tbody>\n",
       "    <tr>\n",
       "      <th>0</th>\n",
       "      <td>1.041617</td>\n",
       "      <td>1886</td>\n",
       "    </tr>\n",
       "    <tr>\n",
       "      <th>1</th>\n",
       "      <td>0.922094</td>\n",
       "      <td>1887</td>\n",
       "    </tr>\n",
       "    <tr>\n",
       "      <th>2</th>\n",
       "      <td>1.038381</td>\n",
       "      <td>1888</td>\n",
       "    </tr>\n",
       "    <tr>\n",
       "      <th>3</th>\n",
       "      <td>1.065888</td>\n",
       "      <td>1889</td>\n",
       "    </tr>\n",
       "    <tr>\n",
       "      <th>4</th>\n",
       "      <td>0.870803</td>\n",
       "      <td>1890</td>\n",
       "    </tr>\n",
       "  </tbody>\n",
       "</table>\n",
       "</div>"
      ],
      "text/plain": [
       "       rate  year\n",
       "0  1.041617  1886\n",
       "1  0.922094  1887\n",
       "2  1.038381  1888\n",
       "3  1.065888  1889\n",
       "4  0.870803  1890"
      ]
     },
     "execution_count": 3,
     "metadata": {},
     "output_type": "execute_result"
    }
   ],
   "source": [
    "DATA = pd.DataFrame({'year':[i for i in range(1886,2015)],'rate':rates})\n",
    "DATA.head()"
   ]
  },
  {
   "cell_type": "code",
   "execution_count": 4,
   "metadata": {
    "scrolled": false
   },
   "outputs": [
    {
     "data": {
      "image/png": "[encoded data removed]",
      "text/plain": [
       "<matplotlib.figure.Figure at 0x25f3bc1c438>"
      ]
     },
     "metadata": {},
     "output_type": "display_data"
    }
   ],
   "source": [
    "%matplotlib inline\n",
    "f1,(f2) = plt.subplots(1,1)\n",
    "scipy.stats.probplot(rates,plot = f2);\n",
    "plt.show()"
   ]
  },
  {
   "cell_type": "code",
   "execution_count": 5,
   "metadata": {
    "scrolled": true
   },
   "outputs": [
    {
     "data": {
      "text/plain": [
       "(0.9856426119804382, 0.1935875564813614)"
      ]
     },
     "execution_count": 5,
     "metadata": {},
     "output_type": "execute_result"
    }
   ],
   "source": [
    "scipy.stats.shapiro(rates)"
   ]
  },
  {
   "cell_type": "code",
   "execution_count": 6,
   "metadata": {
    "scrolled": false
   },
   "outputs": [
    {
     "name": "stdout",
     "output_type": "stream",
     "text": [
      "it looks like the normal distribution\n"
     ]
    }
   ],
   "source": [
    "print('it looks like the normal distribution')"
   ]
  },
  {
   "cell_type": "code",
   "execution_count": 7,
   "metadata": {
    "scrolled": true
   },
   "outputs": [
    {
     "name": "stdout",
     "output_type": "stream",
     "text": [
      "[1.0205965840979923, 0.96025740221955713, 1.0190098209347656, 1.0324184094405573, 0.93316804009116827, 1.0819047000783122, 0.95970589745305335, 0.86596130266122373, 0.99792851554780682, 1.0128824758122728, 0.99424336639408617, 1.1001616279112378, 1.106845859966848, 1.0619762333324876, 1.0168113398186593, 0.95557175129585348, 1.0021751230919451, 0.8564087163363826, 1.2188715163370067, 1.1617329251672559, 0.99604497685439186, 0.79527813878972664, 1.2030122584227814, 1.0676658695408972, 0.91376181850767868, 1.0015208489986889, 1.0361364509495086, 0.94277574524289309, 0.97411265973560479, 1.3448840698241256, 0.98644799549136208, 0.89303073864005722, 1.03788436953637, 1.1474785495998467, 0.8174157108112039, 1.0420497208633288, 1.1187846656620941, 0.9840789912247544, 1.1258962858182082, 1.143479948120026, 0.98928280041154548, 1.1448068065781793, 1.2287235225873352, 0.89185975924940042, 0.83396372552737297, 0.6628383564369319, 0.89138044595848531, 1.3010368609213707, 1.0204661365820629, 1.1743519396806683, 1.1129258906240032, 0.8218190258902861, 1.1288403345707501, 0.99278181141255606, 0.92857233567418407, 0.92934098008855792, 1.0312575156051293, 1.0645786840507119, 1.0595150311515271, 1.1207711331434556, 0.95933709590055294, 1.0130952762027485, 0.98326136732943259, 1.0659828742000297, 1.0983145892228665, 1.0605619252071359, 1.0404620743189297, 0.98404120780144744, 1.202249061860591, 1.0899750844209539, 1.0104949710210789, 0.9410480525517595, 1.1565686762861449, 1.0750208229320035, 0.94798140697755362, 1.0897534007268523, 0.94471219447151611, 1.0883170019015429, 1.0655348200780035, 1.0552468688175887, 0.90108494339101031, 1.0738430741393556, 1.0222967496943451, 0.92402904566293076, 1.0131183538035637, 1.0347514077971631, 1.0770809868126812, 0.91052486022722712, 0.85962288448530855, 1.1656038628282712, 1.0790024882058111, 0.90440283398579102, 0.99612819561635257, 1.0080705119719024, 1.0861593661362385, 0.95247801827419865, 1.0787763106516346, 1.1044264350459996, 0.97826287868572759, 1.1325411669961802, 1.1195300204641345, 1.0225597111404789, 1.0316033315034592, 1.1446891074829935, 0.96384842679400728, 1.102354200008151, 1.021334882820899, 1.0654538839266834, 1.0108394062211703, 1.1613906242038912, 1.1154983181057436, 1.1119035172319587, 1.0738122171036781, 1.1120370131856667, 0.9681769223938792, 0.97272874373471663, 0.924380936599698, 1.0997227655920392, 1.0152338498737332, 1.0054829308815776, 1.0723804650021105, 1.0225694349977217, 0.83224634897655547, 1.0823493661466599, 1.0500870148639401, 1.030660361203203, 1.040137418841748, 1.1071668152037097, 1.0414618017244293]\n"
     ]
    }
   ],
   "source": [
    "rates_sqrt = []\n",
    "for a in rates:\n",
    "    A = np.sqrt(a)\n",
    "    rates_sqrt.append(A)\n",
    "print(rates_sqrt)"
   ]
  },
  {
   "cell_type": "code",
   "execution_count": 8,
   "metadata": {
    "scrolled": true
   },
   "outputs": [
    {
     "data": {
      "text/plain": [
       "(0.9855467081069946, 0.18950529396533966)"
      ]
     },
     "execution_count": 8,
     "metadata": {},
     "output_type": "execute_result"
    }
   ],
   "source": [
    "scipy.stats.shapiro(rates_sqrt)"
   ]
  },
  {
   "cell_type": "code",
   "execution_count": 9,
   "metadata": {
    "scrolled": true
   },
   "outputs": [
    {
     "name": "stdout",
     "output_type": "stream",
     "text": [
      "it is normal distribution\n"
     ]
    }
   ],
   "source": [
    "print('it is normal distribution')"
   ]
  },
  {
   "cell_type": "code",
   "execution_count": 10,
   "metadata": {},
   "outputs": [
    {
     "name": "stdout",
     "output_type": "stream",
     "text": [
      "[0.04077468537478566, -0.08110780629584013, 0.03766278402080217, 0.06380804079404188, -0.13833997414662125, 0.15744619796719952, -0.08225679655365659, -0.28783011313363066, -0.004147265887336412, 0.02560040511236929, -0.011546533772669025, 0.19091420695055067, 0.20302880561836256, 0.1202630868194274, 0.03334318657658889, -0.09089085037969234, 0.004345521872823388, -0.3100150888769226, 0.39585088814410296, 0.29982558272901905, -0.007925729865556211, -0.45812673080343985, 0.3696572536364983, 0.13094967070633282, -0.1803706678609244, 0.00303938735815964, 0.07099768915018184, -0.11785366910528787, -0.05245662989769296, 0.5926156317992451, -0.027289342172082606, -0.22626855385734498, 0.07436876234948857, 0.27513393923733775, -0.40321497513572546, 0.08237931790439901, 0.22448595238709237, -0.032098219033773946, 0.23715883393133055, 0.26815239759141724, -0.021550084837243313, 0.2704717897814671, 0.41195168799336784, -0.2288927586699971, -0.36313074428160363, -0.8224482496019889, -0.2299679100737355, 0.5263230637789452, 0.04051903910819086, 0.321432909488599, 0.2139849696660578, -0.3924701426318498, 0.2423817063484846, -0.014488731509139737, -0.148213990548617, -0.1465591351757508, 0.061557892999433365, 0.12515823812004676, 0.11562257129840693, 0.22803392025353275, -0.08302551629223037, 0.026020548701896275, -0.033760613522537716, 0.12779452027241087, 0.1875536263655986, 0.11759777156188775, 0.07932983342002325, -0.03217500991947341, 0.3683880417111784, 0.17230967530079322, 0.020880562251656843, -0.12152215057908429, 0.2909151675873226, 0.14468006312266465, -0.10684077962465291, 0.1719028655602657, -0.11374990797964812, 0.16926493607586673, 0.12695370317794683, 0.10754947686758633, -0.20831149804800528, 0.14248774389354746, 0.04410362274170389, -0.1580235462687424, 0.026066106782198135, 0.06832242432980554, 0.14850918403255992, -0.1874681525167196, -0.30252298463813626, 0.3064785798379881, 0.15207398460564145, -0.20096081005945113, -0.007758638443667582, 0.01607623911140593, 0.16529591345481773, -0.09737650034986195, 0.15165470612329715, 0.19865227380587114, -0.04395370590650323, 0.2489278565257806, 0.22581794530874993, 0.04461800886634362, 0.062228448945180564, 0.2702661565771156, -0.07364246070053475, 0.19489614940634292, 0.04222096066274897, 0.12680178092475616, 0.02156216190642582, 0.29923620216691377, 0.2186024542801842, 0.21214685396981894, 0.14243027277924816, 0.21238696102671675, -0.06468087467619962, -0.05530003816202053, -0.15726204650538872, 0.19011623351828014, 0.03023795984281249, 0.010935908669384946, 0.13976182213005828, 0.04463702743494837, -0.3672535789355385, 0.15826803507319198, 0.09774606406957245, 0.06039944837787352, 0.07870567585219966, 0.20360866722929083, 0.08125060966711806]\n"
     ]
    }
   ],
   "source": [
    "import math\n",
    "rates_log = []\n",
    "for a in rates:\n",
    "    B = math.log(a)\n",
    "    rates_log.append(B)\n",
    "print(rates_log)"
   ]
  },
  {
   "cell_type": "code",
   "execution_count": 11,
   "metadata": {
    "scrolled": true
   },
   "outputs": [
    {
     "data": {
      "text/plain": [
       "(0.966640055179596, 0.0028818214777857065)"
      ]
     },
     "execution_count": 11,
     "metadata": {},
     "output_type": "execute_result"
    }
   ],
   "source": [
    "scipy.stats.shapiro(rates_log)"
   ]
  },
  {
   "cell_type": "code",
   "execution_count": 12,
   "metadata": {},
   "outputs": [
    {
     "name": "stdout",
     "output_type": "stream",
     "text": [
      "it is not the normal distribution\n"
     ]
    }
   ],
   "source": [
    "print('it is not the normal distribution')"
   ]
  }
 ],
 "metadata": {
  "kernelspec": {
   "display_name": "Python 3",
   "language": "python",
   "name": "python3"
  },
  "language_info": {
   "codemirror_mode": {
    "name": "ipython",
    "version": 3
   },
   "file_extension": ".py",
   "mimetype": "text/x-python",
   "name": "python",
   "nbconvert_exporter": "python",
   "pygments_lexer": "ipython3",
   "version": "3.6.1"
  }
 },
 "nbformat": 4,
 "nbformat_minor": 2
}
